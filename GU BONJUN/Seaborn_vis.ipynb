# sentiment labeled( positive=1, negative=0)
df_results['Sentiment_numeric'] = df_results['Sentiment'].apply(lambda x: 1 if x == 'LABEL_1' else 0)

# histogram visualization
sns.histplot(df_results['Sentiment_numeric'], bins=2)
plt.xticks([0, 1], ['Negative', 'Positive'])
plt.title('Sentiment Distribution (Histogram)')
plt.xlabel('Sentiment')
plt.ylabel('Frequency')
plt.show()

#sentiment spread evaluation
sns.barplot(x='Sentiment', y='Score', data=df_results)
plt.title('Average Sentiment Scores')
plt.xlabel('Sentiment')
plt.ylabel('Score')
plt.show()
